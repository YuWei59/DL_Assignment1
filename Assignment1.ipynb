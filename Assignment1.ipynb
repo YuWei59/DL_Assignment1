{
  "cells": [
    {
      "cell_type": "markdown",
      "metadata": {
        "id": "YZ_oVLxvuTEb"
      },
      "source": [
        "#Download Data(執行一次即可；已執行)"
      ]
    },
    {
      "cell_type": "code",
      "execution_count": null,
      "metadata": {
        "colab": {
          "base_uri": "https://localhost:8080/"
        },
        "id": "eI--SogCE6uL",
        "outputId": "87bac379-9c94-45f6-f491-37618f76bbd9"
      },
      "outputs": [
        {
          "output_type": "stream",
          "name": "stdout",
          "text": [
            "Looking in indexes: https://pypi.org/simple, https://us-python.pkg.dev/colab-wheels/public/simple/\n",
            "Collecting googleDriveFileDownloader\n",
            "  Downloading googleDriveFileDownloader-1.2-py3-none-any.whl (15 kB)\n",
            "Requirement already satisfied: beautifulsoup4 in /usr/local/lib/python3.9/dist-packages (from googleDriveFileDownloader) (4.6.3)\n",
            "Installing collected packages: googleDriveFileDownloader\n",
            "Successfully installed googleDriveFileDownloader-1.2\n"
          ]
        }
      ],
      "source": [
        "!pip install googleDriveFileDownloader #安裝套件語法 !pip install {套件名稱}"
      ]
    },
    {
      "cell_type": "code",
      "execution_count": null,
      "metadata": {
        "colab": {
          "base_uri": "https://localhost:8080/"
        },
        "id": "fEbE7AfTEOWp",
        "outputId": "c7f836a8-bf1b-452e-c0fe-efed71ea6639"
      },
      "outputs": [
        {
          "output_type": "stream",
          "name": "stdout",
          "text": [
            "Download is starting\n",
            "FILENAME ::: images.zip\n"
          ]
        },
        {
          "output_type": "execute_result",
          "data": {
            "text/plain": [
              "0"
            ]
          },
          "metadata": {},
          "execution_count": 2
        }
      ],
      "source": [
        "from googleDriveFileDownloader import googleDriveFileDownloader\n",
        "gdownloader = googleDriveFileDownloader()\n",
        "gdownloader.downloadFile(\"https://drive.google.com/uc?id=1kwYYWL67O0Dcbx3dvZIfbGg9NiHdyisr&export=download\") # 連結到home work 1 data並下載"
      ]
    },
    {
      "cell_type": "code",
      "execution_count": null,
      "metadata": {
        "id": "6XEC1sXmEMEg"
      },
      "outputs": [],
      "source": [
        "!unzip /content/images.zip -d /content/drive/MyDrive/Assignment1/Data #解壓縮"
      ]
    },
    {
      "cell_type": "markdown",
      "metadata": {
        "id": "-q6e2RRwBVLG"
      },
      "source": [
        "#Data Generator"
      ]
    },
    {
      "cell_type": "code",
      "execution_count": 63,
      "metadata": {
        "id": "U6m0ei-uBW8i"
      },
      "outputs": [],
      "source": [
        "import numpy as np\n",
        "import tensorflow as tf\n",
        "import os\n",
        "import copy\n",
        "import cv2\n",
        "class DataGenerator(tf.keras.utils.Sequence):\n",
        "  \"\"\"Generates data for Keras\"\"\"\n",
        "  def __init__(self, list_IDs, labels, path, batch_size=32, dim=(64,64,3), n_channels=1, n_classes=10, shuffle=True):\n",
        "    \"\"\"Initialization\"\"\"\n",
        "    self.dim = dim\n",
        "    self.batch_size = batch_size\n",
        "    self.labels = labels\n",
        "    self.path = path\n",
        "    self.list_IDs = list_IDs\n",
        "    self.n_channels = n_channels\n",
        "    self.n_classes = n_classes\n",
        "    self.shuffle = shuffle\n",
        "    self.on_epoch_end()\n",
        "\n",
        "  def __len__(self):\n",
        "    \"\"\"Denotes the number of batches per epoch\"\"\"\n",
        "    return int(np.floor(len(self.list_IDs) / self.batch_size))\n",
        "\n",
        "  def __getitem__(self, index):\n",
        "    \"\"\"Generate one batch of data\"\"\"\n",
        "    #Generate indexes of the batch\n",
        "    indexes = self.indexes[index*self.batch_size:(index+1)*self.batch_size]\n",
        "    #Find list of IDs\n",
        "    list_IDs_temp = [self.list_IDs[k] for k in indexes]\n",
        "    #Generate data\n",
        "    X,y = self.__data_generation(list_IDs_temp)\n",
        "    return X, y\n",
        "  \n",
        "  def on_epoch_end(self):\n",
        "    \"\"\"Updates indexes after each epoch\"\"\"\n",
        "    self.indexes = np.arange(len(self.list_IDs))\n",
        "    if self.shuffle == True:\n",
        "      np.random.shuffle(self.indexes)\n",
        "  \n",
        "  def __data_generation(self, list_IDs_temp):\n",
        "    \"\"\"Generates data containing batch_size samples\"\"\" #X : (n_smaples, *dim, n_channels)\n",
        "    #Initialization\n",
        "    X = np.empty((self.batch_size, *self.dim))\n",
        "    y = np.empty((self.batch_size), dtype=int)\n",
        "\n",
        "    #Generate data\n",
        "    for i, ID in enumerate(list_IDs_temp):\n",
        "      img = cv2.imread(self.path + ID)\n",
        "      img_resize = cv2.resize(img,(64,64))\n",
        "      X[i,] = img_resize\n",
        "      y[i] = self.labels[ID]\n",
        "  \n",
        "    return X, tf.keras.utils.to_categorical(y, num_classes=self.n_classes)"
      ]
    },
    {
      "cell_type": "markdown",
      "metadata": {
        "id": "UbrC62TX4GMv"
      },
      "source": [
        "#Modules"
      ]
    },
    {
      "cell_type": "code",
      "execution_count": 4,
      "metadata": {
        "colab": {
          "base_uri": "https://localhost:8080/"
        },
        "id": "pFvkZI8fClNf",
        "outputId": "8c3ac753-f1ae-455c-fecd-ab8482d0fe22"
      },
      "outputs": [
        {
          "output_type": "stream",
          "name": "stdout",
          "text": [
            "Mounted at /content/drive\n"
          ]
        }
      ],
      "source": [
        "from google.colab import drive\n",
        "drive.mount('/content/drive') #連接到自己的雲端"
      ]
    },
    {
      "cell_type": "code",
      "execution_count": 5,
      "metadata": {
        "id": "wGqAsv9H4IW1"
      },
      "outputs": [],
      "source": [
        "import numpy as np\n",
        "import pandas as pd\n",
        "import matplotlib.pyplot as plt\n",
        "from tqdm import tqdm\n",
        "import os\n",
        "import cv2"
      ]
    },
    {
      "cell_type": "markdown",
      "metadata": {
        "id": "rtark5Woy2JY"
      },
      "source": [
        "#Load Raw Data"
      ]
    },
    {
      "cell_type": "code",
      "execution_count": 65,
      "metadata": {
        "id": "OqTZsF_U7GP_"
      },
      "outputs": [],
      "source": [
        "file_train = open(\"/content/drive/MyDrive/Assignment1/Data/train.txt\")\n",
        "file_test = open(\"/content/drive/MyDrive/Assignment1/Data/test.txt\")\n",
        "file_val = open(\"/content/drive/MyDrive/Assignment1/Data/val.txt\")"
      ]
    },
    {
      "cell_type": "code",
      "execution_count": 66,
      "metadata": {
        "id": "XpAPBvSz8XTW"
      },
      "outputs": [],
      "source": [
        "train_path = list()\n",
        "train_label = list()\n",
        "for line in file_train:\n",
        "  (path, label) = line.split()\n",
        "  train_path.append(path)\n",
        "  train_label.append(label)"
      ]
    },
    {
      "cell_type": "code",
      "execution_count": 67,
      "metadata": {
        "id": "_wBvRJs4ApdE"
      },
      "outputs": [],
      "source": [
        "test_path = list()\n",
        "test_label = list()\n",
        "for line in file_test:\n",
        "  (path, label) = line.split()\n",
        "  test_path.append(path)\n",
        "  test_label.append(label)"
      ]
    },
    {
      "cell_type": "code",
      "execution_count": 68,
      "metadata": {
        "id": "1iODkRH7Ap7u"
      },
      "outputs": [],
      "source": [
        "val_path = list()\n",
        "val_label = list()\n",
        "for line in file_val:\n",
        "  (path, label) = line.split()\n",
        "  val_path.append(path)\n",
        "  val_label.append(label)"
      ]
    },
    {
      "cell_type": "code",
      "execution_count": 69,
      "metadata": {
        "id": "OzUBjVCgBCY4"
      },
      "outputs": [],
      "source": [
        "file_train.close()\n",
        "file_test.close()\n",
        "file_val.close()"
      ]
    },
    {
      "cell_type": "code",
      "source": [
        "train_label = np.array(train_label)\n",
        "len(np.unique(train_label))"
      ],
      "metadata": {
        "id": "hGDNtNGlUae4",
        "colab": {
          "base_uri": "https://localhost:8080/"
        },
        "outputId": "f5bd4c48-912a-4959-8aa0-356b3e3ff09a"
      },
      "execution_count": 70,
      "outputs": [
        {
          "output_type": "execute_result",
          "data": {
            "text/plain": [
              "50"
            ]
          },
          "metadata": {},
          "execution_count": 70
        }
      ]
    },
    {
      "cell_type": "markdown",
      "source": [
        "因為全部的訓練集跑不完，所以把訓練集各label取200個"
      ],
      "metadata": {
        "id": "FCe4mUr4CsRO"
      }
    },
    {
      "cell_type": "code",
      "source": [
        "train_path_new = list()\n",
        "train_label_new = list()\n",
        "train_label_count = dict()\n",
        "for i in range(len(train_path)):\n",
        "  if f\"{train_label[i]}\" not in train_label_count:\n",
        "    train_label_count[f\"{train_label[i]}\"] = 1\n",
        "  elif train_label_count[f\"{train_label[i]}\"] == 200:\n",
        "    continue\n",
        "  else:\n",
        "    train_label_count[f\"{train_label[i]}\"] = train_label_count[f\"{train_label[i]}\"] + 1\n",
        "    train_path_new.append(train_path[i])\n",
        "    train_label_new.append(train_label[i])\n",
        "  \n",
        "train_label_count"
      ],
      "metadata": {
        "id": "Ytvt2aL_k0YE",
        "colab": {
          "base_uri": "https://localhost:8080/"
        },
        "outputId": "eacc1cf6-a6bf-4270-dfb6-5e9d3d5e30eb"
      },
      "execution_count": 71,
      "outputs": [
        {
          "output_type": "execute_result",
          "data": {
            "text/plain": [
              "{'0': 200,\n",
              " '1': 200,\n",
              " '2': 200,\n",
              " '3': 200,\n",
              " '4': 200,\n",
              " '5': 200,\n",
              " '6': 200,\n",
              " '7': 200,\n",
              " '8': 200,\n",
              " '9': 200,\n",
              " '10': 200,\n",
              " '11': 200,\n",
              " '12': 200,\n",
              " '13': 200,\n",
              " '14': 200,\n",
              " '15': 200,\n",
              " '16': 200,\n",
              " '17': 200,\n",
              " '18': 200,\n",
              " '19': 200,\n",
              " '20': 200,\n",
              " '21': 200,\n",
              " '22': 200,\n",
              " '23': 200,\n",
              " '24': 200,\n",
              " '25': 200,\n",
              " '26': 200,\n",
              " '27': 200,\n",
              " '28': 200,\n",
              " '29': 200,\n",
              " '30': 200,\n",
              " '31': 200,\n",
              " '32': 200,\n",
              " '33': 200,\n",
              " '34': 200,\n",
              " '35': 200,\n",
              " '36': 200,\n",
              " '37': 200,\n",
              " '38': 200,\n",
              " '39': 200,\n",
              " '40': 200,\n",
              " '41': 200,\n",
              " '42': 200,\n",
              " '43': 200,\n",
              " '44': 200,\n",
              " '45': 200,\n",
              " '46': 200,\n",
              " '47': 200,\n",
              " '48': 200,\n",
              " '49': 200}"
            ]
          },
          "metadata": {},
          "execution_count": 71
        }
      ]
    },
    {
      "cell_type": "code",
      "source": [
        "partition = {\"train\":train_path_new, \"test\":test_path, \"val\":val_path}\n",
        "\n",
        "lab = dict()\n",
        "for n in range(len(train_path_new)):\n",
        "  lab[train_path_new[n]] = train_label_new[n]\n",
        "for n in range(len(test_path)):\n",
        "  lab[test_path[n]] = test_label[n]\n",
        "for n in range(len(val_path)):\n",
        "  lab[val_path[n]] = val_label[n]"
      ],
      "metadata": {
        "id": "BHuYscIMQWCS"
      },
      "execution_count": 72,
      "outputs": []
    },
    {
      "cell_type": "code",
      "source": [
        "batch_size=32\n",
        "n_classes=50\n",
        "\n",
        "\n",
        "train_gen = DataGenerator(partition[\"train\"], lab, \"/content/drive/MyDrive/Assignment1/Data/\", batch_size = batch_size, n_classes = n_classes)\n",
        "test_gen = DataGenerator(partition[\"test\"], lab, \"/content/drive/MyDrive/Assignment1/Data/\", batch_size = batch_size, n_classes = n_classes)\n",
        "val_gen = DataGenerator(partition[\"val\"], lab, \"/content/drive/MyDrive/Assignment1/Data/\", batch_size = batch_size, n_classes = n_classes)"
      ],
      "metadata": {
        "id": "lWIWLefSS2Vt"
      },
      "execution_count": 73,
      "outputs": []
    },
    {
      "cell_type": "markdown",
      "source": [
        "#CNN Model (Feature extract)"
      ],
      "metadata": {
        "id": "Ifw9jIe5Ts1i"
      }
    },
    {
      "cell_type": "code",
      "source": [
        "import tensorflow as tf\n",
        "from tensorflow.keras import layers\n",
        "from tensorflow.keras.models import Sequential\n",
        "from tensorflow.keras.regularizers import L2"
      ],
      "metadata": {
        "id": "vHyLlqzuTudu"
      },
      "execution_count": 74,
      "outputs": []
    },
    {
      "cell_type": "code",
      "source": [
        "model = Sequential([\n",
        "  layers.Rescaling(1./255, input_shape = (64,64,3)),\n",
        "  layers.Conv2D(4, 3, padding='same', activation='relu', kernel_regularizer=L2(1e-3)),\n",
        "  layers.MaxPooling2D(),\n",
        "  # layers.Conv2D(4, 3, padding='same', activation='relu', kernel_regularizer=L2(1e-3)),\n",
        "  # layers.MaxPooling2D(),\n",
        "  layers.Flatten(),\n",
        "  layers.Dense(50, activation='relu', kernel_regularizer=L2(1e-3)),\n",
        "])"
      ],
      "metadata": {
        "id": "YD2pbBp40S4D"
      },
      "execution_count": 75,
      "outputs": []
    },
    {
      "cell_type": "code",
      "source": [
        "model.compile(optimizer='adam', \n",
        "        loss=\"categorical_crossentropy\",\n",
        "        metrics=['accuracy'])"
      ],
      "metadata": {
        "id": "IQ3Phr8T0tjb"
      },
      "execution_count": 76,
      "outputs": []
    },
    {
      "cell_type": "code",
      "source": [
        "model.summary()"
      ],
      "metadata": {
        "id": "01vCQwxC0z1i",
        "colab": {
          "base_uri": "https://localhost:8080/"
        },
        "outputId": "f5a24c14-4b12-44df-c8df-d23ded968324"
      },
      "execution_count": 77,
      "outputs": [
        {
          "output_type": "stream",
          "name": "stdout",
          "text": [
            "Model: \"sequential_2\"\n",
            "_________________________________________________________________\n",
            " Layer (type)                Output Shape              Param #   \n",
            "=================================================================\n",
            " rescaling_2 (Rescaling)     (None, 64, 64, 3)         0         \n",
            "                                                                 \n",
            " conv2d_3 (Conv2D)           (None, 64, 64, 4)         112       \n",
            "                                                                 \n",
            " max_pooling2d_3 (MaxPooling  (None, 32, 32, 4)        0         \n",
            " 2D)                                                             \n",
            "                                                                 \n",
            " flatten_2 (Flatten)         (None, 4096)              0         \n",
            "                                                                 \n",
            " dense_2 (Dense)             (None, 50)                204850    \n",
            "                                                                 \n",
            "=================================================================\n",
            "Total params: 204,962\n",
            "Trainable params: 204,962\n",
            "Non-trainable params: 0\n",
            "_________________________________________________________________\n"
          ]
        }
      ]
    },
    {
      "cell_type": "code",
      "source": [
        "learning_rate = 1e-2\n",
        "epochs = 5"
      ],
      "metadata": {
        "id": "jDkrqyV12Kyb"
      },
      "execution_count": 78,
      "outputs": []
    },
    {
      "cell_type": "code",
      "source": [
        "history = model.fit(\n",
        "  train_gen,\n",
        "  validation_data = val_gen,\n",
        "  shuffle = True,\n",
        "  epochs = epochs\n",
        ")"
      ],
      "metadata": {
        "id": "wCuDhYIF2MqD",
        "colab": {
          "base_uri": "https://localhost:8080/"
        },
        "outputId": "0c4b9589-5a4d-4943-c0a7-bf3a9b45103a"
      },
      "execution_count": 79,
      "outputs": [
        {
          "output_type": "stream",
          "name": "stdout",
          "text": [
            "Epoch 1/5\n",
            "310/310 [==============================] - 54s 170ms/step - loss: 13.4811 - accuracy: 0.0273 - val_loss: 13.3795 - val_accuracy: 0.0357\n",
            "Epoch 2/5\n",
            "310/310 [==============================] - 48s 156ms/step - loss: 13.1295 - accuracy: 0.0341 - val_loss: 12.8276 - val_accuracy: 0.0290\n",
            "Epoch 3/5\n",
            "310/310 [==============================] - 47s 151ms/step - loss: 12.8435 - accuracy: 0.0396 - val_loss: 12.8143 - val_accuracy: 0.0469\n",
            "Epoch 4/5\n",
            "310/310 [==============================] - 46s 147ms/step - loss: 12.8624 - accuracy: 0.0220 - val_loss: 12.8348 - val_accuracy: 0.0201\n",
            "Epoch 5/5\n",
            "310/310 [==============================] - 45s 146ms/step - loss: 12.8470 - accuracy: 0.0300 - val_loss: 12.8165 - val_accuracy: 0.0357\n"
          ]
        }
      ]
    },
    {
      "cell_type": "code",
      "execution_count": 80,
      "metadata": {
        "id": "jzWVA_5T0kJL",
        "colab": {
          "base_uri": "https://localhost:8080/",
          "height": 388
        },
        "outputId": "8505ed13-39d4-4247-d1c2-c3908e019a8d"
      },
      "outputs": [
        {
          "output_type": "display_data",
          "data": {
            "text/plain": [
              "<Figure size 720x432 with 1 Axes>"
            ],
            "image/png": "[encoded data removed]"
          },
          "metadata": {
            "needs_background": "light"
          }
        }
      ],
      "source": [
        "trn_loss = history.history[\"loss\"]\n",
        "val_loss = history.history[\"val_loss\"]\n",
        "trn_acc = history.history[\"accuracy\"]\n",
        "val_acc = history.history[\"val_accuracy\"]\n",
        "\n",
        "plt.figure(figsize=(10,6))\n",
        "plt.plot(trn_loss, label=\"Train Loss\")\n",
        "plt.plot(val_loss, label=\"val Loss\")\n",
        "plt.xlabel(\"Epochs\")\n",
        "plt.ylabel(\"Loss\")\n",
        "plt.legend()\n",
        "plt.show()"
      ]
    },
    {
      "cell_type": "code",
      "execution_count": 81,
      "metadata": {
        "id": "RopPgyRq1kSC",
        "colab": {
          "base_uri": "https://localhost:8080/",
          "height": 388
        },
        "outputId": "b3b814a7-08a0-4c9d-b3f7-0036f6bf2c9d"
      },
      "outputs": [
        {
          "output_type": "display_data",
          "data": {
            "text/plain": [
              "<Figure size 720x432 with 1 Axes>"
            ],
            "image/png": "[encoded data removed]"
          },
          "metadata": {
            "needs_background": "light"
          }
        }
      ],
      "source": [
        "plt.figure(figsize=(10,6))\n",
        "plt.plot(trn_acc, label=\"Train Acc\")\n",
        "plt.plot(val_acc, label=\"Val Acc\")\n",
        "plt.xlabel(\"Epochs\")\n",
        "plt.ylabel(\"Accuracy\")\n",
        "plt.legend()\n",
        "plt.show()"
      ]
    },
    {
      "cell_type": "markdown",
      "source": [
        "#Save Feature extract data"
      ],
      "metadata": {
        "id": "k_3pbsRBipcp"
      }
    },
    {
      "cell_type": "code",
      "source": [
        "for i in tqdm(range(len(train_path_new))):\n",
        "  img = cv2.imread(f\"/content/drive/MyDrive/Assignment1/Data/{train_path_new[i]}\")\n",
        "  img = cv2.resize(img, (64,64))\n",
        "  img_reshape = img.reshape(1,64,64,3)\n",
        "  predict = model(img_reshape).numpy()\n",
        "  a = train_label_new[i]\n",
        "  np.save(f\"/content/drive/MyDrive/Assignment1/Data/npy/train/{a}.{i+1:03}\", predict)\n"
      ],
      "metadata": {
        "id": "0pZFyW9bCqBo",
        "colab": {
          "base_uri": "https://localhost:8080/"
        },
        "outputId": "719ddbe2-63a3-47bf-f74e-1dab0aa2844c"
      },
      "execution_count": 83,
      "outputs": [
        {
          "output_type": "stream",
          "name": "stderr",
          "text": [
            "100%|██████████| 9950/9950 [02:32<00:00, 65.10it/s]\n"
          ]
        }
      ]
    },
    {
      "cell_type": "code",
      "source": [
        "img = cv2.imread(f\"/content/drive/MyDrive/Assignment1/Data/{train_path_new[0]}\")\n",
        "img = cv2.resize(img, (64,64))\n",
        "img_reshape = img.reshape(1,64,64,3)\n",
        "predict = model(img_reshape).numpy()\n",
        "predict"
      ],
      "metadata": {
        "id": "ghsZj1ACwTes",
        "colab": {
          "base_uri": "https://localhost:8080/"
        },
        "outputId": "ae625df8-d82d-4bf5-85c9-572b4ee50b52"
      },
      "execution_count": 84,
      "outputs": [
        {
          "output_type": "execute_result",
          "data": {
            "text/plain": [
              "array([[0.       , 2.8522432, 3.156401 , 0.       , 7.7670493, 2.3733594,\n",
              "        0.       , 0.       , 0.       , 0.       , 0.       , 4.5177894,\n",
              "        0.       , 0.       , 0.       , 0.       , 0.       , 0.       ,\n",
              "        0.       , 0.       , 0.       , 0.       , 0.       , 0.       ,\n",
              "        0.       , 5.668534 , 0.       , 0.       , 0.       , 0.       ,\n",
              "        0.       , 0.       , 0.       , 0.       , 0.       , 4.3931894,\n",
              "        0.       , 0.       , 3.3983889, 0.       , 0.       , 0.       ,\n",
              "        2.9400337, 2.8649027, 0.       , 4.095402 , 0.       , 0.       ,\n",
              "        0.       , 5.15292  ]], dtype=float32)"
            ]
          },
          "metadata": {},
          "execution_count": 84
        }
      ]
    },
    {
      "cell_type": "code",
      "source": [
        "for i in tqdm(range(len(test_path))):\n",
        "  img = cv2.imread(f\"/content/drive/MyDrive/Assignment1/Data/{test_path[i]}\")\n",
        "  img = cv2.resize(img, (64,64))\n",
        "  img_reshape = img.reshape(1,64,64,3)\n",
        "  predict = model(img_reshape).numpy()\n",
        "  a = test_label[i]\n",
        "  np.save(f\"/content/drive/MyDrive/Assignment1/Data/npy/test/{a}.{i+1:03}\", predict)\n"
      ],
      "metadata": {
        "id": "NWf_cwc4m3lQ",
        "colab": {
          "base_uri": "https://localhost:8080/"
        },
        "outputId": "e1243199-f59f-473c-8f57-6dd2e12d17b2"
      },
      "execution_count": 85,
      "outputs": [
        {
          "output_type": "stream",
          "name": "stderr",
          "text": [
            "100%|██████████| 450/450 [00:06<00:00, 72.95it/s]\n"
          ]
        }
      ]
    },
    {
      "cell_type": "code",
      "source": [
        "for i in tqdm(range(len(val_path))):\n",
        "  img = cv2.imread(f\"/content/drive/MyDrive/Assignment1/Data/{val_path[i]}\")\n",
        "  img = cv2.resize(img, (64,64))\n",
        "  img_reshape = img.reshape(1,64,64,3)\n",
        "  predict = model(img_reshape).numpy()\n",
        "  a = val_label[i]\n",
        "  np.save(f\"/content/drive/MyDrive/Assignment1/Data/npy/val/{a}.{i+1:03}\", predict)\n"
      ],
      "metadata": {
        "id": "Z6Tc6kxPldi9",
        "colab": {
          "base_uri": "https://localhost:8080/"
        },
        "outputId": "af188623-b7cd-4bd0-9dee-9571e1b0376a"
      },
      "execution_count": 86,
      "outputs": [
        {
          "output_type": "stream",
          "name": "stderr",
          "text": [
            "100%|██████████| 450/450 [00:05<00:00, 80.03it/s]\n"
          ]
        }
      ]
    },
    {
      "cell_type": "markdown",
      "source": [
        "#Load data"
      ],
      "metadata": {
        "id": "B1-eFlVf69Gh"
      }
    },
    {
      "cell_type": "code",
      "source": [
        "trnset_path = os.listdir(\"/content/drive/MyDrive/Assignment1/Data/npy/train\")\n",
        "trn_x = list()\n",
        "trn_y = list()\n",
        "for filename in tqdm(trnset_path):\n",
        "  img = np.load(f\"/content/drive/MyDrive/Assignment1/Data/npy/train/{filename}\")\n",
        "  trn_x.append(img[0])\n",
        "  lab = filename.split(\".\")[0]\n",
        "  trn_y.append(lab)\n"
      ],
      "metadata": {
        "colab": {
          "base_uri": "https://localhost:8080/"
        },
        "id": "YxZo_0Ki7EWI",
        "outputId": "87690dd4-577c-482a-b830-2ca03b92fe45"
      },
      "execution_count": 6,
      "outputs": [
        {
          "output_type": "stream",
          "name": "stderr",
          "text": [
            "100%|██████████| 9950/9950 [05:31<00:00, 30.03it/s] \n"
          ]
        }
      ]
    },
    {
      "cell_type": "code",
      "source": [
        "trn_x = pd.DataFrame(trn_x)\n",
        "trn_y = pd.DataFrame(trn_y)"
      ],
      "metadata": {
        "id": "rDDX8MHz7CC5"
      },
      "execution_count": 7,
      "outputs": []
    },
    {
      "cell_type": "code",
      "source": [
        "tstset_path = os.listdir(\"/content/drive/MyDrive/Assignment1/Data/npy/test\")\n",
        "tst_x = list()\n",
        "tst_y = list()\n",
        "for filename in tqdm(tstset_path):\n",
        "  img = np.load(f\"/content/drive/MyDrive/Assignment1/Data/npy/test/{filename}\")\n",
        "  tst_x.append(img[0])\n",
        "  lab = filename.split(\".\")[0]\n",
        "  tst_y.append(lab)\n"
      ],
      "metadata": {
        "colab": {
          "base_uri": "https://localhost:8080/"
        },
        "id": "aEZiqnNx-qpo",
        "outputId": "030a2248-3cb4-48c3-8cad-1560a2905fa2"
      },
      "execution_count": 8,
      "outputs": [
        {
          "output_type": "stream",
          "name": "stderr",
          "text": [
            "100%|██████████| 450/450 [00:07<00:00, 61.87it/s] \n"
          ]
        }
      ]
    },
    {
      "cell_type": "code",
      "source": [
        "tst_x = pd.DataFrame(tst_x)\n",
        "tst_y = pd.DataFrame(tst_y)"
      ],
      "metadata": {
        "id": "lxudAg1R-L3b"
      },
      "execution_count": 9,
      "outputs": []
    },
    {
      "cell_type": "code",
      "source": [
        "valset_path = os.listdir(\"/content/drive/MyDrive/Assignment1/Data/npy/val\")\n",
        "val_x = list()\n",
        "val_y = list()\n",
        "for filename in tqdm(valset_path):\n",
        "  img = np.load(f\"/content/drive/MyDrive/Assignment1/Data/npy//val/{filename}\")\n",
        "  val_x.append(img[0])\n",
        "  lab = filename.split(\".\")[0]\n",
        "  val_y.append(lab)\n",
        "\n",
        "val_x = np.array(val_x) \n",
        "val_y = np.array(val_y)"
      ],
      "metadata": {
        "colab": {
          "base_uri": "https://localhost:8080/"
        },
        "id": "7nB7pJ-Q-rj0",
        "outputId": "c090c25e-97ea-4e2f-d50f-8a10636211bf"
      },
      "execution_count": 10,
      "outputs": [
        {
          "output_type": "stream",
          "name": "stderr",
          "text": [
            "100%|██████████| 450/450 [00:06<00:00, 66.22it/s] \n"
          ]
        }
      ]
    },
    {
      "cell_type": "code",
      "source": [
        "val_x = pd.DataFrame(val_x)\n",
        "val_y = pd.DataFrame(val_y)"
      ],
      "metadata": {
        "id": "wvlrN_3a-Mcy"
      },
      "execution_count": 11,
      "outputs": []
    },
    {
      "cell_type": "markdown",
      "source": [
        "#Classifier"
      ],
      "metadata": {
        "id": "4sitXO9x_Mp3"
      }
    },
    {
      "cell_type": "code",
      "source": [
        "from sklearn.metrics import accuracy_score"
      ],
      "metadata": {
        "id": "0lauTmRT_R4S"
      },
      "execution_count": 12,
      "outputs": []
    },
    {
      "cell_type": "code",
      "source": [
        "def score(true_y, pred_y):\n",
        "  y_count = dict()\n",
        "  y_accuracy = dict()\n",
        "  for ii in range(len(true_y.value_counts())):\n",
        "    y_count[f\"{ii}\"] = {\"right\":0, \"wrong\":0}\n",
        "  for i in range(len(true_y)):\n",
        "    if true_y[0][i] == pred_y[i]:\n",
        "      y_count[f\"{true_y[0][i]}\"][\"right\"] = y_count[f\"{true_y[0][i]}\"][\"right\"] + 1\n",
        "    else:\n",
        "      y_count[f\"{true_y[0][i]}\"][\"wrong\"] = y_count[f\"{true_y[0][i]}\"][\"wrong\"] + 1\n",
        "  for i in y_count.keys():\n",
        "    y_accuracy[f\"{i}\"] = y_count[f\"{i}\"][\"right\"] / (y_count[f\"{i}\"][\"right\"] + y_count[f\"{i}\"][\"wrong\"])\n",
        "  \n",
        "  return y_count, y_accuracy"
      ],
      "metadata": {
        "id": "CVb1NJ733bYb"
      },
      "execution_count": 13,
      "outputs": []
    },
    {
      "cell_type": "markdown",
      "source": [
        "##Decision Tree"
      ],
      "metadata": {
        "id": "1cWWgxZH_TeO"
      }
    },
    {
      "cell_type": "code",
      "source": [
        "from sklearn import tree\n",
        "DT = tree.DecisionTreeClassifier()\n",
        "DT.fit(trn_x, trn_y)"
      ],
      "metadata": {
        "id": "mlnU_IRb_Vg9",
        "colab": {
          "base_uri": "https://localhost:8080/",
          "height": 74
        },
        "outputId": "889bb1cd-d0a9-4070-c9e3-8369ea07ebe9"
      },
      "execution_count": 278,
      "outputs": [
        {
          "output_type": "execute_result",
          "data": {
            "text/plain": [
              "DecisionTreeClassifier()"
            ],
            "text/html": [
              "<style>#sk-container-id-12 {color: black;background-color: white;}#sk-container-id-12 pre{padding: 0;}#sk-container-id-12 div.sk-toggleable {background-color: white;}#sk-container-id-12 label.sk-toggleable__label {cursor: pointer;display: block;width: 100%;margin-bottom: 0;padding: 0.3em;box-sizing: border-box;text-align: center;}#sk-container-id-12 label.sk-toggleable__label-arrow:before {content: \"▸\";float: left;margin-right: 0.25em;color: #696969;}#sk-container-id-12 label.sk-toggleable__label-arrow:hover:before {color: black;}#sk-container-id-12 div.sk-estimator:hover label.sk-toggleable__label-arrow:before {color: black;}#sk-container-id-12 div.sk-toggleable__content {max-height: 0;max-width: 0;overflow: hidden;text-align: left;background-color: #f0f8ff;}#sk-container-id-12 div.sk-toggleable__content pre {margin: 0.2em;color: black;border-radius: 0.25em;background-color: #f0f8ff;}#sk-container-id-12 input.sk-toggleable__control:checked~div.sk-toggleable__content {max-height: 200px;max-width: 100%;overflow: auto;}#sk-container-id-12 input.sk-toggleable__control:checked~label.sk-toggleable__label-arrow:before {content: \"▾\";}#sk-container-id-12 div.sk-estimator input.sk-toggleable__control:checked~label.sk-toggleable__label {background-color: #d4ebff;}#sk-container-id-12 div.sk-label input.sk-toggleable__control:checked~label.sk-toggleable__label {background-color: #d4ebff;}#sk-container-id-12 input.sk-hidden--visually {border: 0;clip: rect(1px 1px 1px 1px);clip: rect(1px, 1px, 1px, 1px);height: 1px;margin: -1px;overflow: hidden;padding: 0;position: absolute;width: 1px;}#sk-container-id-12 div.sk-estimator {font-family: monospace;background-color: #f0f8ff;border: 1px dotted black;border-radius: 0.25em;box-sizing: border-box;margin-bottom: 0.5em;}#sk-container-id-12 div.sk-estimator:hover {background-color: #d4ebff;}#sk-container-id-12 div.sk-parallel-item::after {content: \"\";width: 100%;border-bottom: 1px solid gray;flex-grow: 1;}#sk-container-id-12 div.sk-label:hover label.sk-toggleable__label {background-color: #d4ebff;}#sk-container-id-12 div.sk-serial::before {content: \"\";position: absolute;border-left: 1px solid gray;box-sizing: border-box;top: 0;bottom: 0;left: 50%;z-index: 0;}#sk-container-id-12 div.sk-serial {display: flex;flex-direction: column;align-items: center;background-color: white;padding-right: 0.2em;padding-left: 0.2em;position: relative;}#sk-container-id-12 div.sk-item {position: relative;z-index: 1;}#sk-container-id-12 div.sk-parallel {display: flex;align-items: stretch;justify-content: center;background-color: white;position: relative;}#sk-container-id-12 div.sk-item::before, #sk-container-id-12 div.sk-parallel-item::before {content: \"\";position: absolute;border-left: 1px solid gray;box-sizing: border-box;top: 0;bottom: 0;left: 50%;z-index: -1;}#sk-container-id-12 div.sk-parallel-item {display: flex;flex-direction: column;z-index: 1;position: relative;background-color: white;}#sk-container-id-12 div.sk-parallel-item:first-child::after {align-self: flex-end;width: 50%;}#sk-container-id-12 div.sk-parallel-item:last-child::after {align-self: flex-start;width: 50%;}#sk-container-id-12 div.sk-parallel-item:only-child::after {width: 0;}#sk-container-id-12 div.sk-dashed-wrapped {border: 1px dashed gray;margin: 0 0.4em 0.5em 0.4em;box-sizing: border-box;padding-bottom: 0.4em;background-color: white;}#sk-container-id-12 div.sk-label label {font-family: monospace;font-weight: bold;display: inline-block;line-height: 1.2em;}#sk-container-id-12 div.sk-label-container {text-align: center;}#sk-container-id-12 div.sk-container {/* jupyter's `normalize.less` sets `[hidden] { display: none; }` but bootstrap.min.css set `[hidden] { display: none !important; }` so we also need the `!important` here to be able to override the default hidden behavior on the sphinx rendered scikit-learn.org. See: https://github.com/scikit-learn/scikit-learn/issues/21755 */display: inline-block !important;position: relative;}#sk-container-id-12 div.sk-text-repr-fallback {display: none;}</style><div id=\"sk-container-id-12\" class=\"sk-top-container\"><div class=\"sk-text-repr-fallback\"><pre>DecisionTreeClassifier()</pre><b>In a Jupyter environment, please rerun this cell to show the HTML representation or trust the notebook. <br />On GitHub, the HTML representation is unable to render, please try loading this page with nbviewer.org.</b></div><div class=\"sk-container\" hidden><div class=\"sk-item\"><div class=\"sk-estimator sk-toggleable\"><input class=\"sk-toggleable__control sk-hidden--visually\" id=\"sk-estimator-id-12\" type=\"checkbox\" checked><label for=\"sk-estimator-id-12\" class=\"sk-toggleable__label sk-toggleable__label-arrow\">DecisionTreeClassifier</label><div class=\"sk-toggleable__content\"><pre>DecisionTreeClassifier()</pre></div></div></div></div></div>"
            ]
          },
          "metadata": {},
          "execution_count": 278
        }
      ]
    },
    {
      "cell_type": "code",
      "source": [
        "test_predict_DT = DT.predict(tst_x)\n",
        "acc = accuracy_score(test_predict_DT, tst_y)\n",
        "acc"
      ],
      "metadata": {
        "id": "fJex1gdR-k77",
        "colab": {
          "base_uri": "https://localhost:8080/"
        },
        "outputId": "cff0b757-afe4-44ef-e04f-547c8362d5aa"
      },
      "execution_count": 279,
      "outputs": [
        {
          "output_type": "execute_result",
          "data": {
            "text/plain": [
              "0.051111111111111114"
            ]
          },
          "metadata": {},
          "execution_count": 279
        }
      ]
    },
    {
      "cell_type": "code",
      "source": [
        "test_DT_y_count, test_DT_y_accuracy = score(tst_y, test_predict_DT)\n",
        "test_DT_y_accuracy"
      ],
      "metadata": {
        "id": "wwQjP0VB--4D",
        "colab": {
          "base_uri": "https://localhost:8080/"
        },
        "outputId": "13570195-e578-4108-c6d8-af4a11b4e55b"
      },
      "execution_count": 280,
      "outputs": [
        {
          "output_type": "execute_result",
          "data": {
            "text/plain": [
              "{'0': 0.0,\n",
              " '1': 0.0,\n",
              " '2': 0.0,\n",
              " '3': 0.0,\n",
              " '4': 0.0,\n",
              " '5': 0.0,\n",
              " '6': 0.0,\n",
              " '7': 0.0,\n",
              " '8': 0.0,\n",
              " '9': 0.1111111111111111,\n",
              " '10': 0.2222222222222222,\n",
              " '11': 0.2222222222222222,\n",
              " '12': 0.0,\n",
              " '13': 0.0,\n",
              " '14': 0.0,\n",
              " '15': 0.0,\n",
              " '16': 0.0,\n",
              " '17': 0.1111111111111111,\n",
              " '18': 0.0,\n",
              " '19': 0.0,\n",
              " '20': 0.0,\n",
              " '21': 0.0,\n",
              " '22': 0.0,\n",
              " '23': 0.0,\n",
              " '24': 0.1111111111111111,\n",
              " '25': 0.0,\n",
              " '26': 0.0,\n",
              " '27': 0.1111111111111111,\n",
              " '28': 0.0,\n",
              " '29': 0.0,\n",
              " '30': 0.0,\n",
              " '31': 0.0,\n",
              " '32': 0.1111111111111111,\n",
              " '33': 0.0,\n",
              " '34': 0.0,\n",
              " '35': 0.1111111111111111,\n",
              " '36': 0.0,\n",
              " '37': 0.1111111111111111,\n",
              " '38': 0.1111111111111111,\n",
              " '39': 0.0,\n",
              " '40': 0.1111111111111111,\n",
              " '41': 0.1111111111111111,\n",
              " '42': 0.0,\n",
              " '43': 0.0,\n",
              " '44': 0.1111111111111111,\n",
              " '45': 0.0,\n",
              " '46': 0.4444444444444444,\n",
              " '47': 0.1111111111111111,\n",
              " '48': 0.2222222222222222,\n",
              " '49': 0.1111111111111111}"
            ]
          },
          "metadata": {},
          "execution_count": 280
        }
      ]
    },
    {
      "cell_type": "code",
      "source": [
        "val_predict_DT = DT.predict(val_x)\n",
        "acc = accuracy_score(val_predict_DT, val_y)\n",
        "acc"
      ],
      "metadata": {
        "colab": {
          "base_uri": "https://localhost:8080/"
        },
        "id": "DN72BB8hRWVn",
        "outputId": "467bd7e0-5edc-45e4-f622-6ade0ffe719d"
      },
      "execution_count": 281,
      "outputs": [
        {
          "output_type": "execute_result",
          "data": {
            "text/plain": [
              "0.03777777777777778"
            ]
          },
          "metadata": {},
          "execution_count": 281
        }
      ]
    },
    {
      "cell_type": "code",
      "source": [
        "val_DT_y_count, val_DT_y_accuracy = score(val_y, val_predict_DT)\n",
        "val_DT_y_accuracy"
      ],
      "metadata": {
        "colab": {
          "base_uri": "https://localhost:8080/"
        },
        "id": "uV494452RWVn",
        "outputId": "893951a0-347b-468c-b285-cac7bbb1e487"
      },
      "execution_count": 282,
      "outputs": [
        {
          "output_type": "execute_result",
          "data": {
            "text/plain": [
              "{'0': 0.1111111111111111,\n",
              " '1': 0.0,\n",
              " '2': 0.0,\n",
              " '3': 0.0,\n",
              " '4': 0.0,\n",
              " '5': 0.0,\n",
              " '6': 0.0,\n",
              " '7': 0.0,\n",
              " '8': 0.0,\n",
              " '9': 0.0,\n",
              " '10': 0.2222222222222222,\n",
              " '11': 0.0,\n",
              " '12': 0.0,\n",
              " '13': 0.0,\n",
              " '14': 0.0,\n",
              " '15': 0.0,\n",
              " '16': 0.0,\n",
              " '17': 0.0,\n",
              " '18': 0.0,\n",
              " '19': 0.0,\n",
              " '20': 0.1111111111111111,\n",
              " '21': 0.2222222222222222,\n",
              " '22': 0.0,\n",
              " '23': 0.0,\n",
              " '24': 0.0,\n",
              " '25': 0.0,\n",
              " '26': 0.1111111111111111,\n",
              " '27': 0.0,\n",
              " '28': 0.0,\n",
              " '29': 0.0,\n",
              " '30': 0.0,\n",
              " '31': 0.0,\n",
              " '32': 0.1111111111111111,\n",
              " '33': 0.0,\n",
              " '34': 0.1111111111111111,\n",
              " '35': 0.1111111111111111,\n",
              " '36': 0.0,\n",
              " '37': 0.0,\n",
              " '38': 0.1111111111111111,\n",
              " '39': 0.1111111111111111,\n",
              " '40': 0.0,\n",
              " '41': 0.0,\n",
              " '42': 0.1111111111111111,\n",
              " '43': 0.0,\n",
              " '44': 0.1111111111111111,\n",
              " '45': 0.1111111111111111,\n",
              " '46': 0.1111111111111111,\n",
              " '47': 0.0,\n",
              " '48': 0.0,\n",
              " '49': 0.1111111111111111}"
            ]
          },
          "metadata": {},
          "execution_count": 282
        }
      ]
    },
    {
      "cell_type": "markdown",
      "source": [
        "##Random Forest"
      ],
      "metadata": {
        "id": "Kh9885IcOPx8"
      }
    },
    {
      "cell_type": "code",
      "source": [
        "from sklearn.ensemble import RandomForestClassifier\n",
        "forest = RandomForestClassifier()\n",
        "forest.fit(trn_x, trn_y)"
      ],
      "metadata": {
        "id": "9vtNKiPLOPXg",
        "colab": {
          "base_uri": "https://localhost:8080/",
          "height": 129
        },
        "outputId": "d4fb2c49-b480-4ce2-9cb6-fe6e91c7e134"
      },
      "execution_count": 283,
      "outputs": [
        {
          "output_type": "stream",
          "name": "stderr",
          "text": [
            "<ipython-input-283-8ea47ab5defa>:3: DataConversionWarning: A column-vector y was passed when a 1d array was expected. Please change the shape of y to (n_samples,), for example using ravel().\n",
            "  forest.fit(trn_x, trn_y)\n"
          ]
        },
        {
          "output_type": "execute_result",
          "data": {
            "text/plain": [
              "RandomForestClassifier()"
            ],
            "text/html": [
              "<style>#sk-container-id-13 {color: black;background-color: white;}#sk-container-id-13 pre{padding: 0;}#sk-container-id-13 div.sk-toggleable {background-color: white;}#sk-container-id-13 label.sk-toggleable__label {cursor: pointer;display: block;width: 100%;margin-bottom: 0;padding: 0.3em;box-sizing: border-box;text-align: center;}#sk-container-id-13 label.sk-toggleable__label-arrow:before {content: \"▸\";float: left;margin-right: 0.25em;color: #696969;}#sk-container-id-13 label.sk-toggleable__label-arrow:hover:before {color: black;}#sk-container-id-13 div.sk-estimator:hover label.sk-toggleable__label-arrow:before {color: black;}#sk-container-id-13 div.sk-toggleable__content {max-height: 0;max-width: 0;overflow: hidden;text-align: left;background-color: #f0f8ff;}#sk-container-id-13 div.sk-toggleable__content pre {margin: 0.2em;color: black;border-radius: 0.25em;background-color: #f0f8ff;}#sk-container-id-13 input.sk-toggleable__control:checked~div.sk-toggleable__content {max-height: 200px;max-width: 100%;overflow: auto;}#sk-container-id-13 input.sk-toggleable__control:checked~label.sk-toggleable__label-arrow:before {content: \"▾\";}#sk-container-id-13 div.sk-estimator input.sk-toggleable__control:checked~label.sk-toggleable__label {background-color: #d4ebff;}#sk-container-id-13 div.sk-label input.sk-toggleable__control:checked~label.sk-toggleable__label {background-color: #d4ebff;}#sk-container-id-13 input.sk-hidden--visually {border: 0;clip: rect(1px 1px 1px 1px);clip: rect(1px, 1px, 1px, 1px);height: 1px;margin: -1px;overflow: hidden;padding: 0;position: absolute;width: 1px;}#sk-container-id-13 div.sk-estimator {font-family: monospace;background-color: #f0f8ff;border: 1px dotted black;border-radius: 0.25em;box-sizing: border-box;margin-bottom: 0.5em;}#sk-container-id-13 div.sk-estimator:hover {background-color: #d4ebff;}#sk-container-id-13 div.sk-parallel-item::after {content: \"\";width: 100%;border-bottom: 1px solid gray;flex-grow: 1;}#sk-container-id-13 div.sk-label:hover label.sk-toggleable__label {background-color: #d4ebff;}#sk-container-id-13 div.sk-serial::before {content: \"\";position: absolute;border-left: 1px solid gray;box-sizing: border-box;top: 0;bottom: 0;left: 50%;z-index: 0;}#sk-container-id-13 div.sk-serial {display: flex;flex-direction: column;align-items: center;background-color: white;padding-right: 0.2em;padding-left: 0.2em;position: relative;}#sk-container-id-13 div.sk-item {position: relative;z-index: 1;}#sk-container-id-13 div.sk-parallel {display: flex;align-items: stretch;justify-content: center;background-color: white;position: relative;}#sk-container-id-13 div.sk-item::before, #sk-container-id-13 div.sk-parallel-item::before {content: \"\";position: absolute;border-left: 1px solid gray;box-sizing: border-box;top: 0;bottom: 0;left: 50%;z-index: -1;}#sk-container-id-13 div.sk-parallel-item {display: flex;flex-direction: column;z-index: 1;position: relative;background-color: white;}#sk-container-id-13 div.sk-parallel-item:first-child::after {align-self: flex-end;width: 50%;}#sk-container-id-13 div.sk-parallel-item:last-child::after {align-self: flex-start;width: 50%;}#sk-container-id-13 div.sk-parallel-item:only-child::after {width: 0;}#sk-container-id-13 div.sk-dashed-wrapped {border: 1px dashed gray;margin: 0 0.4em 0.5em 0.4em;box-sizing: border-box;padding-bottom: 0.4em;background-color: white;}#sk-container-id-13 div.sk-label label {font-family: monospace;font-weight: bold;display: inline-block;line-height: 1.2em;}#sk-container-id-13 div.sk-label-container {text-align: center;}#sk-container-id-13 div.sk-container {/* jupyter's `normalize.less` sets `[hidden] { display: none; }` but bootstrap.min.css set `[hidden] { display: none !important; }` so we also need the `!important` here to be able to override the default hidden behavior on the sphinx rendered scikit-learn.org. See: https://github.com/scikit-learn/scikit-learn/issues/21755 */display: inline-block !important;position: relative;}#sk-container-id-13 div.sk-text-repr-fallback {display: none;}</style><div id=\"sk-container-id-13\" class=\"sk-top-container\"><div class=\"sk-text-repr-fallback\"><pre>RandomForestClassifier()</pre><b>In a Jupyter environment, please rerun this cell to show the HTML representation or trust the notebook. <br />On GitHub, the HTML representation is unable to render, please try loading this page with nbviewer.org.</b></div><div class=\"sk-container\" hidden><div class=\"sk-item\"><div class=\"sk-estimator sk-toggleable\"><input class=\"sk-toggleable__control sk-hidden--visually\" id=\"sk-estimator-id-13\" type=\"checkbox\" checked><label for=\"sk-estimator-id-13\" class=\"sk-toggleable__label sk-toggleable__label-arrow\">RandomForestClassifier</label><div class=\"sk-toggleable__content\"><pre>RandomForestClassifier()</pre></div></div></div></div></div>"
            ]
          },
          "metadata": {},
          "execution_count": 283
        }
      ]
    },
    {
      "cell_type": "code",
      "source": [
        "test_predict_RF = forest.predict(tst_x)\n",
        "acc = accuracy_score(tst_y, test_predict_RF)\n",
        "acc"
      ],
      "metadata": {
        "id": "tgSasAQJ-2Kt",
        "colab": {
          "base_uri": "https://localhost:8080/"
        },
        "outputId": "ff0aa7c4-5d1e-4f06-f2c9-4fe7150739b2"
      },
      "execution_count": 284,
      "outputs": [
        {
          "output_type": "execute_result",
          "data": {
            "text/plain": [
              "0.07111111111111111"
            ]
          },
          "metadata": {},
          "execution_count": 284
        }
      ]
    },
    {
      "cell_type": "code",
      "source": [
        "test_RF_y_count, test_RF_y_accuracy = score(tst_y, test_predict_RF)\n",
        "test_RF_y_accuracy"
      ],
      "metadata": {
        "id": "-fHZ3uFx-7HT",
        "colab": {
          "base_uri": "https://localhost:8080/"
        },
        "outputId": "01b72f2a-6b52-4ff2-ee95-4b0bdfc304e6"
      },
      "execution_count": 285,
      "outputs": [
        {
          "output_type": "execute_result",
          "data": {
            "text/plain": [
              "{'0': 0.3333333333333333,\n",
              " '1': 0.0,\n",
              " '2': 0.3333333333333333,\n",
              " '3': 0.1111111111111111,\n",
              " '4': 0.1111111111111111,\n",
              " '5': 0.0,\n",
              " '6': 0.0,\n",
              " '7': 0.1111111111111111,\n",
              " '8': 0.0,\n",
              " '9': 0.0,\n",
              " '10': 0.0,\n",
              " '11': 0.0,\n",
              " '12': 0.1111111111111111,\n",
              " '13': 0.0,\n",
              " '14': 0.2222222222222222,\n",
              " '15': 0.0,\n",
              " '16': 0.1111111111111111,\n",
              " '17': 0.1111111111111111,\n",
              " '18': 0.0,\n",
              " '19': 0.0,\n",
              " '20': 0.1111111111111111,\n",
              " '21': 0.1111111111111111,\n",
              " '22': 0.1111111111111111,\n",
              " '23': 0.0,\n",
              " '24': 0.1111111111111111,\n",
              " '25': 0.0,\n",
              " '26': 0.0,\n",
              " '27': 0.1111111111111111,\n",
              " '28': 0.0,\n",
              " '29': 0.0,\n",
              " '30': 0.0,\n",
              " '31': 0.0,\n",
              " '32': 0.0,\n",
              " '33': 0.0,\n",
              " '34': 0.0,\n",
              " '35': 0.0,\n",
              " '36': 0.0,\n",
              " '37': 0.1111111111111111,\n",
              " '38': 0.0,\n",
              " '39': 0.1111111111111111,\n",
              " '40': 0.1111111111111111,\n",
              " '41': 0.2222222222222222,\n",
              " '42': 0.0,\n",
              " '43': 0.0,\n",
              " '44': 0.3333333333333333,\n",
              " '45': 0.1111111111111111,\n",
              " '46': 0.1111111111111111,\n",
              " '47': 0.0,\n",
              " '48': 0.2222222222222222,\n",
              " '49': 0.1111111111111111}"
            ]
          },
          "metadata": {},
          "execution_count": 285
        }
      ]
    },
    {
      "cell_type": "code",
      "source": [
        "val_predict_RF = forest.predict(val_x)\n",
        "acc = accuracy_score(val_y, val_predict_RF)\n",
        "acc"
      ],
      "metadata": {
        "colab": {
          "base_uri": "https://localhost:8080/"
        },
        "id": "xyNdoy4ZRiT0",
        "outputId": "333185d8-42c9-4276-d9ba-a15f1e71f8cf"
      },
      "execution_count": 286,
      "outputs": [
        {
          "output_type": "execute_result",
          "data": {
            "text/plain": [
              "0.06444444444444444"
            ]
          },
          "metadata": {},
          "execution_count": 286
        }
      ]
    },
    {
      "cell_type": "code",
      "source": [
        "val_RF_y_count, val_RF_y_accuracy = score(val_y, val_predict_RF)\n",
        "val_RF_y_accuracy"
      ],
      "metadata": {
        "colab": {
          "base_uri": "https://localhost:8080/"
        },
        "id": "ibWz7aH1RiT0",
        "outputId": "e988e128-daf7-4cfb-d92d-b92978c451ab"
      },
      "execution_count": 287,
      "outputs": [
        {
          "output_type": "execute_result",
          "data": {
            "text/plain": [
              "{'0': 0.3333333333333333,\n",
              " '1': 0.0,\n",
              " '2': 0.0,\n",
              " '3': 0.0,\n",
              " '4': 0.0,\n",
              " '5': 0.0,\n",
              " '6': 0.0,\n",
              " '7': 0.0,\n",
              " '8': 0.0,\n",
              " '9': 0.0,\n",
              " '10': 0.0,\n",
              " '11': 0.0,\n",
              " '12': 0.0,\n",
              " '13': 0.0,\n",
              " '14': 0.0,\n",
              " '15': 0.0,\n",
              " '16': 0.0,\n",
              " '17': 0.0,\n",
              " '18': 0.1111111111111111,\n",
              " '19': 0.2222222222222222,\n",
              " '20': 0.0,\n",
              " '21': 0.1111111111111111,\n",
              " '22': 0.0,\n",
              " '23': 0.1111111111111111,\n",
              " '24': 0.0,\n",
              " '25': 0.0,\n",
              " '26': 0.1111111111111111,\n",
              " '27': 0.1111111111111111,\n",
              " '28': 0.0,\n",
              " '29': 0.1111111111111111,\n",
              " '30': 0.1111111111111111,\n",
              " '31': 0.0,\n",
              " '32': 0.0,\n",
              " '33': 0.1111111111111111,\n",
              " '34': 0.2222222222222222,\n",
              " '35': 0.0,\n",
              " '36': 0.0,\n",
              " '37': 0.1111111111111111,\n",
              " '38': 0.1111111111111111,\n",
              " '39': 0.3333333333333333,\n",
              " '40': 0.1111111111111111,\n",
              " '41': 0.1111111111111111,\n",
              " '42': 0.0,\n",
              " '43': 0.0,\n",
              " '44': 0.0,\n",
              " '45': 0.0,\n",
              " '46': 0.3333333333333333,\n",
              " '47': 0.0,\n",
              " '48': 0.4444444444444444,\n",
              " '49': 0.0}"
            ]
          },
          "metadata": {},
          "execution_count": 287
        }
      ]
    },
    {
      "cell_type": "markdown",
      "source": [
        "##KNN"
      ],
      "metadata": {
        "id": "asubB3q8GiwR"
      }
    },
    {
      "cell_type": "code",
      "source": [
        "from sklearn import neighbors\n",
        "n_neighbors = 15\n",
        "NN = neighbors.KNeighborsClassifier(n_neighbors)\n",
        "NN.fit(trn_x, trn_y)"
      ],
      "metadata": {
        "colab": {
          "base_uri": "https://localhost:8080/",
          "height": 129
        },
        "id": "iEz9o53UFvxn",
        "outputId": "f739dc2f-eab5-4cb6-8aff-e39aa5adb156"
      },
      "execution_count": 288,
      "outputs": [
        {
          "output_type": "stream",
          "name": "stderr",
          "text": [
            "/usr/local/lib/python3.9/dist-packages/sklearn/neighbors/_classification.py:215: DataConversionWarning: A column-vector y was passed when a 1d array was expected. Please change the shape of y to (n_samples,), for example using ravel().\n",
            "  return self._fit(X, y)\n"
          ]
        },
        {
          "output_type": "execute_result",
          "data": {
            "text/plain": [
              "KNeighborsClassifier(n_neighbors=15)"
            ],
            "text/html": [
              "<style>#sk-container-id-14 {color: black;background-color: white;}#sk-container-id-14 pre{padding: 0;}#sk-container-id-14 div.sk-toggleable {background-color: white;}#sk-container-id-14 label.sk-toggleable__label {cursor: pointer;display: block;width: 100%;margin-bottom: 0;padding: 0.3em;box-sizing: border-box;text-align: center;}#sk-container-id-14 label.sk-toggleable__label-arrow:before {content: \"▸\";float: left;margin-right: 0.25em;color: #696969;}#sk-container-id-14 label.sk-toggleable__label-arrow:hover:before {color: black;}#sk-container-id-14 div.sk-estimator:hover label.sk-toggleable__label-arrow:before {color: black;}#sk-container-id-14 div.sk-toggleable__content {max-height: 0;max-width: 0;overflow: hidden;text-align: left;background-color: #f0f8ff;}#sk-container-id-14 div.sk-toggleable__content pre {margin: 0.2em;color: black;border-radius: 0.25em;background-color: #f0f8ff;}#sk-container-id-14 input.sk-toggleable__control:checked~div.sk-toggleable__content {max-height: 200px;max-width: 100%;overflow: auto;}#sk-container-id-14 input.sk-toggleable__control:checked~label.sk-toggleable__label-arrow:before {content: \"▾\";}#sk-container-id-14 div.sk-estimator input.sk-toggleable__control:checked~label.sk-toggleable__label {background-color: #d4ebff;}#sk-container-id-14 div.sk-label input.sk-toggleable__control:checked~label.sk-toggleable__label {background-color: #d4ebff;}#sk-container-id-14 input.sk-hidden--visually {border: 0;clip: rect(1px 1px 1px 1px);clip: rect(1px, 1px, 1px, 1px);height: 1px;margin: -1px;overflow: hidden;padding: 0;position: absolute;width: 1px;}#sk-container-id-14 div.sk-estimator {font-family: monospace;background-color: #f0f8ff;border: 1px dotted black;border-radius: 0.25em;box-sizing: border-box;margin-bottom: 0.5em;}#sk-container-id-14 div.sk-estimator:hover {background-color: #d4ebff;}#sk-container-id-14 div.sk-parallel-item::after {content: \"\";width: 100%;border-bottom: 1px solid gray;flex-grow: 1;}#sk-container-id-14 div.sk-label:hover label.sk-toggleable__label {background-color: #d4ebff;}#sk-container-id-14 div.sk-serial::before {content: \"\";position: absolute;border-left: 1px solid gray;box-sizing: border-box;top: 0;bottom: 0;left: 50%;z-index: 0;}#sk-container-id-14 div.sk-serial {display: flex;flex-direction: column;align-items: center;background-color: white;padding-right: 0.2em;padding-left: 0.2em;position: relative;}#sk-container-id-14 div.sk-item {position: relative;z-index: 1;}#sk-container-id-14 div.sk-parallel {display: flex;align-items: stretch;justify-content: center;background-color: white;position: relative;}#sk-container-id-14 div.sk-item::before, #sk-container-id-14 div.sk-parallel-item::before {content: \"\";position: absolute;border-left: 1px solid gray;box-sizing: border-box;top: 0;bottom: 0;left: 50%;z-index: -1;}#sk-container-id-14 div.sk-parallel-item {display: flex;flex-direction: column;z-index: 1;position: relative;background-color: white;}#sk-container-id-14 div.sk-parallel-item:first-child::after {align-self: flex-end;width: 50%;}#sk-container-id-14 div.sk-parallel-item:last-child::after {align-self: flex-start;width: 50%;}#sk-container-id-14 div.sk-parallel-item:only-child::after {width: 0;}#sk-container-id-14 div.sk-dashed-wrapped {border: 1px dashed gray;margin: 0 0.4em 0.5em 0.4em;box-sizing: border-box;padding-bottom: 0.4em;background-color: white;}#sk-container-id-14 div.sk-label label {font-family: monospace;font-weight: bold;display: inline-block;line-height: 1.2em;}#sk-container-id-14 div.sk-label-container {text-align: center;}#sk-container-id-14 div.sk-container {/* jupyter's `normalize.less` sets `[hidden] { display: none; }` but bootstrap.min.css set `[hidden] { display: none !important; }` so we also need the `!important` here to be able to override the default hidden behavior on the sphinx rendered scikit-learn.org. See: https://github.com/scikit-learn/scikit-learn/issues/21755 */display: inline-block !important;position: relative;}#sk-container-id-14 div.sk-text-repr-fallback {display: none;}</style><div id=\"sk-container-id-14\" class=\"sk-top-container\"><div class=\"sk-text-repr-fallback\"><pre>KNeighborsClassifier(n_neighbors=15)</pre><b>In a Jupyter environment, please rerun this cell to show the HTML representation or trust the notebook. <br />On GitHub, the HTML representation is unable to render, please try loading this page with nbviewer.org.</b></div><div class=\"sk-container\" hidden><div class=\"sk-item\"><div class=\"sk-estimator sk-toggleable\"><input class=\"sk-toggleable__control sk-hidden--visually\" id=\"sk-estimator-id-14\" type=\"checkbox\" checked><label for=\"sk-estimator-id-14\" class=\"sk-toggleable__label sk-toggleable__label-arrow\">KNeighborsClassifier</label><div class=\"sk-toggleable__content\"><pre>KNeighborsClassifier(n_neighbors=15)</pre></div></div></div></div></div>"
            ]
          },
          "metadata": {},
          "execution_count": 288
        }
      ]
    },
    {
      "cell_type": "code",
      "source": [
        "test_NN_predict = NN.predict(tst_x)\n",
        "test_NN_y_count, test_NN_y_accuracy = score(tst_y, test_NN_predict)\n",
        "test_NN_y_accuracy"
      ],
      "metadata": {
        "colab": {
          "base_uri": "https://localhost:8080/"
        },
        "id": "f9rcZwAzGcXF",
        "outputId": "00ec683e-6843-4c11-eba9-023103974591"
      },
      "execution_count": 289,
      "outputs": [
        {
          "output_type": "execute_result",
          "data": {
            "text/plain": [
              "{'0': 0.3333333333333333,\n",
              " '1': 0.0,\n",
              " '2': 0.1111111111111111,\n",
              " '3': 0.0,\n",
              " '4': 0.0,\n",
              " '5': 0.0,\n",
              " '6': 0.0,\n",
              " '7': 0.1111111111111111,\n",
              " '8': 0.1111111111111111,\n",
              " '9': 0.0,\n",
              " '10': 0.0,\n",
              " '11': 0.0,\n",
              " '12': 0.2222222222222222,\n",
              " '13': 0.0,\n",
              " '14': 0.0,\n",
              " '15': 0.0,\n",
              " '16': 0.0,\n",
              " '17': 0.0,\n",
              " '18': 0.1111111111111111,\n",
              " '19': 0.0,\n",
              " '20': 0.3333333333333333,\n",
              " '21': 0.1111111111111111,\n",
              " '22': 0.2222222222222222,\n",
              " '23': 0.0,\n",
              " '24': 0.0,\n",
              " '25': 0.2222222222222222,\n",
              " '26': 0.0,\n",
              " '27': 0.1111111111111111,\n",
              " '28': 0.0,\n",
              " '29': 0.0,\n",
              " '30': 0.0,\n",
              " '31': 0.0,\n",
              " '32': 0.0,\n",
              " '33': 0.1111111111111111,\n",
              " '34': 0.1111111111111111,\n",
              " '35': 0.0,\n",
              " '36': 0.0,\n",
              " '37': 0.1111111111111111,\n",
              " '38': 0.1111111111111111,\n",
              " '39': 0.2222222222222222,\n",
              " '40': 0.0,\n",
              " '41': 0.2222222222222222,\n",
              " '42': 0.0,\n",
              " '43': 0.0,\n",
              " '44': 0.4444444444444444,\n",
              " '45': 0.2222222222222222,\n",
              " '46': 0.1111111111111111,\n",
              " '47': 0.0,\n",
              " '48': 0.1111111111111111,\n",
              " '49': 0.0}"
            ]
          },
          "metadata": {},
          "execution_count": 289
        }
      ]
    },
    {
      "cell_type": "code",
      "source": [
        "val_NN_predict = NN.predict(val_x)\n",
        "val_NN_y_count, val_NN_y_accuracy = score(val_y, val_NN_predict)\n",
        "val_NN_y_accuracy"
      ],
      "metadata": {
        "colab": {
          "base_uri": "https://localhost:8080/"
        },
        "id": "g5RZTr4RR2hU",
        "outputId": "d016cc7e-630e-414a-b782-21552913896f"
      },
      "execution_count": 290,
      "outputs": [
        {
          "output_type": "execute_result",
          "data": {
            "text/plain": [
              "{'0': 0.2222222222222222,\n",
              " '1': 0.2222222222222222,\n",
              " '2': 0.0,\n",
              " '3': 0.0,\n",
              " '4': 0.0,\n",
              " '5': 0.0,\n",
              " '6': 0.0,\n",
              " '7': 0.0,\n",
              " '8': 0.0,\n",
              " '9': 0.0,\n",
              " '10': 0.1111111111111111,\n",
              " '11': 0.0,\n",
              " '12': 0.2222222222222222,\n",
              " '13': 0.1111111111111111,\n",
              " '14': 0.0,\n",
              " '15': 0.0,\n",
              " '16': 0.1111111111111111,\n",
              " '17': 0.0,\n",
              " '18': 0.0,\n",
              " '19': 0.0,\n",
              " '20': 0.2222222222222222,\n",
              " '21': 0.1111111111111111,\n",
              " '22': 0.0,\n",
              " '23': 0.1111111111111111,\n",
              " '24': 0.0,\n",
              " '25': 0.0,\n",
              " '26': 0.0,\n",
              " '27': 0.0,\n",
              " '28': 0.0,\n",
              " '29': 0.1111111111111111,\n",
              " '30': 0.1111111111111111,\n",
              " '31': 0.0,\n",
              " '32': 0.0,\n",
              " '33': 0.0,\n",
              " '34': 0.0,\n",
              " '35': 0.0,\n",
              " '36': 0.0,\n",
              " '37': 0.0,\n",
              " '38': 0.1111111111111111,\n",
              " '39': 0.3333333333333333,\n",
              " '40': 0.0,\n",
              " '41': 0.0,\n",
              " '42': 0.0,\n",
              " '43': 0.0,\n",
              " '44': 0.3333333333333333,\n",
              " '45': 0.0,\n",
              " '46': 0.1111111111111111,\n",
              " '47': 0.0,\n",
              " '48': 0.3333333333333333,\n",
              " '49': 0.0}"
            ]
          },
          "metadata": {},
          "execution_count": 290
        }
      ]
    },
    {
      "cell_type": "markdown",
      "source": [
        "##CatBoost"
      ],
      "metadata": {
        "id": "WNhNVXn2KkhH"
      }
    },
    {
      "cell_type": "code",
      "source": [
        "!pip install catboost\n",
        "import catboost as ctb"
      ],
      "metadata": {
        "colab": {
          "base_uri": "https://localhost:8080/"
        },
        "id": "PeTfeurcKla8",
        "outputId": "1bd58dd1-e4ed-4683-c224-2ee63d4c5da2"
      },
      "execution_count": 14,
      "outputs": [
        {
          "output_type": "stream",
          "name": "stdout",
          "text": [
            "Looking in indexes: https://pypi.org/simple, https://us-python.pkg.dev/colab-wheels/public/simple/\n",
            "Collecting catboost\n",
            "  Downloading catboost-1.1.1-cp39-none-manylinux1_x86_64.whl (76.6 MB)\n",
            "\u001b[2K     \u001b[90m━━━━━━━━━━━━━━━━━━━━━━━━━━━━━━━━━━━━━━━━\u001b[0m \u001b[32m76.6/76.6 MB\u001b[0m \u001b[31m12.2 MB/s\u001b[0m eta \u001b[36m0:00:00\u001b[0m\n",
            "\u001b[?25hRequirement already satisfied: graphviz in /usr/local/lib/python3.9/dist-packages (from catboost) (0.10.1)\n",
            "Requirement already satisfied: pandas>=0.24.0 in /usr/local/lib/python3.9/dist-packages (from catboost) (1.4.4)\n",
            "Requirement already satisfied: matplotlib in /usr/local/lib/python3.9/dist-packages (from catboost) (3.5.3)\n",
            "Requirement already satisfied: plotly in /usr/local/lib/python3.9/dist-packages (from catboost) (5.5.0)\n",
            "Requirement already satisfied: numpy>=1.16.0 in /usr/local/lib/python3.9/dist-packages (from catboost) (1.22.4)\n",
            "Requirement already satisfied: scipy in /usr/local/lib/python3.9/dist-packages (from catboost) (1.10.1)\n",
            "Requirement already satisfied: six in /usr/local/lib/python3.9/dist-packages (from catboost) (1.15.0)\n",
            "Requirement already satisfied: pytz>=2020.1 in /usr/local/lib/python3.9/dist-packages (from pandas>=0.24.0->catboost) (2022.7.1)\n",
            "Requirement already satisfied: python-dateutil>=2.8.1 in /usr/local/lib/python3.9/dist-packages (from pandas>=0.24.0->catboost) (2.8.2)\n",
            "Requirement already satisfied: cycler>=0.10 in /usr/local/lib/python3.9/dist-packages (from matplotlib->catboost) (0.11.0)\n",
            "Requirement already satisfied: kiwisolver>=1.0.1 in /usr/local/lib/python3.9/dist-packages (from matplotlib->catboost) (1.4.4)\n",
            "Requirement already satisfied: pillow>=6.2.0 in /usr/local/lib/python3.9/dist-packages (from matplotlib->catboost) (8.4.0)\n",
            "Requirement already satisfied: pyparsing>=2.2.1 in /usr/local/lib/python3.9/dist-packages (from matplotlib->catboost) (3.0.9)\n",
            "Requirement already satisfied: fonttools>=4.22.0 in /usr/local/lib/python3.9/dist-packages (from matplotlib->catboost) (4.39.0)\n",
            "Requirement already satisfied: packaging>=20.0 in /usr/local/lib/python3.9/dist-packages (from matplotlib->catboost) (23.0)\n",
            "Requirement already satisfied: tenacity>=6.2.0 in /usr/local/lib/python3.9/dist-packages (from plotly->catboost) (8.2.2)\n",
            "Installing collected packages: catboost\n",
            "Successfully installed catboost-1.1.1\n"
          ]
        }
      ]
    },
    {
      "cell_type": "code",
      "source": [
        "model_CBC = ctb.CatBoostClassifier()\n",
        "model_CBC.fit(trn_x, trn_y)"
      ],
      "metadata": {
        "id": "QH7SNKK1KrFb"
      },
      "execution_count": null,
      "outputs": []
    },
    {
      "cell_type": "code",
      "source": [
        "test_predict_Cat = model_CBC.predict(tst_x)\n",
        "test_Cat_y_count, test_Cat_y_accuracy = score(tst_y, test_predict_Cat)\n",
        "test_Cat_y_accuracy"
      ],
      "metadata": {
        "colab": {
          "base_uri": "https://localhost:8080/"
        },
        "id": "wO4h2DO6LEVG",
        "outputId": "60e02614-e4fd-46eb-917c-08b767c018c9"
      },
      "execution_count": 16,
      "outputs": [
        {
          "output_type": "execute_result",
          "data": {
            "text/plain": [
              "{'0': 0.1111111111111111,\n",
              " '1': 0.1111111111111111,\n",
              " '2': 0.1111111111111111,\n",
              " '3': 0.1111111111111111,\n",
              " '4': 0.0,\n",
              " '5': 0.0,\n",
              " '6': 0.0,\n",
              " '7': 0.0,\n",
              " '8': 0.1111111111111111,\n",
              " '9': 0.0,\n",
              " '10': 0.1111111111111111,\n",
              " '11': 0.0,\n",
              " '12': 0.0,\n",
              " '13': 0.1111111111111111,\n",
              " '14': 0.2222222222222222,\n",
              " '15': 0.0,\n",
              " '16': 0.1111111111111111,\n",
              " '17': 0.2222222222222222,\n",
              " '18': 0.0,\n",
              " '19': 0.0,\n",
              " '20': 0.2222222222222222,\n",
              " '21': 0.0,\n",
              " '22': 0.2222222222222222,\n",
              " '23': 0.0,\n",
              " '24': 0.0,\n",
              " '25': 0.0,\n",
              " '26': 0.0,\n",
              " '27': 0.3333333333333333,\n",
              " '28': 0.0,\n",
              " '29': 0.2222222222222222,\n",
              " '30': 0.0,\n",
              " '31': 0.0,\n",
              " '32': 0.1111111111111111,\n",
              " '33': 0.1111111111111111,\n",
              " '34': 0.0,\n",
              " '35': 0.0,\n",
              " '36': 0.0,\n",
              " '37': 0.1111111111111111,\n",
              " '38': 0.0,\n",
              " '39': 0.2222222222222222,\n",
              " '40': 0.2222222222222222,\n",
              " '41': 0.3333333333333333,\n",
              " '42': 0.0,\n",
              " '43': 0.1111111111111111,\n",
              " '44': 0.3333333333333333,\n",
              " '45': 0.0,\n",
              " '46': 0.2222222222222222,\n",
              " '47': 0.0,\n",
              " '48': 0.4444444444444444,\n",
              " '49': 0.1111111111111111}"
            ]
          },
          "metadata": {},
          "execution_count": 16
        }
      ]
    },
    {
      "cell_type": "code",
      "source": [
        "val_predict_Cat = model_CBC.predict(val_x)\n",
        "val_Cat_y_count, val_Cat_y_accuracy = score(val_y, val_predict_Cat)\n",
        "val_Cat_y_accuracy"
      ],
      "metadata": {
        "colab": {
          "base_uri": "https://localhost:8080/"
        },
        "id": "-RvUTW0tST_5",
        "outputId": "4ceac0cc-234b-4f03-8a47-57628fe62abd"
      },
      "execution_count": 17,
      "outputs": [
        {
          "output_type": "execute_result",
          "data": {
            "text/plain": [
              "{'0': 0.2222222222222222,\n",
              " '1': 0.1111111111111111,\n",
              " '2': 0.0,\n",
              " '3': 0.0,\n",
              " '4': 0.0,\n",
              " '5': 0.0,\n",
              " '6': 0.0,\n",
              " '7': 0.0,\n",
              " '8': 0.0,\n",
              " '9': 0.0,\n",
              " '10': 0.0,\n",
              " '11': 0.1111111111111111,\n",
              " '12': 0.1111111111111111,\n",
              " '13': 0.0,\n",
              " '14': 0.0,\n",
              " '15': 0.0,\n",
              " '16': 0.0,\n",
              " '17': 0.1111111111111111,\n",
              " '18': 0.0,\n",
              " '19': 0.0,\n",
              " '20': 0.1111111111111111,\n",
              " '21': 0.0,\n",
              " '22': 0.1111111111111111,\n",
              " '23': 0.1111111111111111,\n",
              " '24': 0.0,\n",
              " '25': 0.0,\n",
              " '26': 0.0,\n",
              " '27': 0.0,\n",
              " '28': 0.0,\n",
              " '29': 0.2222222222222222,\n",
              " '30': 0.0,\n",
              " '31': 0.0,\n",
              " '32': 0.0,\n",
              " '33': 0.0,\n",
              " '34': 0.2222222222222222,\n",
              " '35': 0.0,\n",
              " '36': 0.0,\n",
              " '37': 0.0,\n",
              " '38': 0.1111111111111111,\n",
              " '39': 0.3333333333333333,\n",
              " '40': 0.1111111111111111,\n",
              " '41': 0.2222222222222222,\n",
              " '42': 0.0,\n",
              " '43': 0.0,\n",
              " '44': 0.3333333333333333,\n",
              " '45': 0.0,\n",
              " '46': 0.1111111111111111,\n",
              " '47': 0.0,\n",
              " '48': 0.3333333333333333,\n",
              " '49': 0.0}"
            ]
          },
          "metadata": {},
          "execution_count": 17
        }
      ]
    }
  ],
  "metadata": {
    "colab": {
      "provenance": [],
      "collapsed_sections": [
        "YZ_oVLxvuTEb",
        "-q6e2RRwBVLG",
        "UbrC62TX4GMv",
        "rtark5Woy2JY",
        "Ifw9jIe5Ts1i",
        "k_3pbsRBipcp"
      ]
    },
    "gpuClass": "standard",
    "kernelspec": {
      "display_name": "Python 3",
      "name": "python3"
    },
    "language_info": {
      "name": "python"
    },
    "accelerator": "GPU"
  },
  "nbformat": 4,
  "nbformat_minor": 0
}